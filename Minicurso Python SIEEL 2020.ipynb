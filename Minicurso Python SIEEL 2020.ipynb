{
 "cells": [
  {
   "cell_type": "markdown",
   "metadata": {},
   "source": [
    "# O que é Python\n",
    "\n",
    "Python é uma linguagem de programação:\n",
    "* de alto nível\n",
    "* interpretada\n",
    "* de script\n",
    "* imperativa\n",
    "* orientada a objetos\n",
    "* funcional\n",
    "* de tipagem dinâmica\n",
    "* forte\n",
    "\n",
    "## Sintaxe"
   ]
  },
  {
   "cell_type": "code",
   "execution_count": 1,
   "metadata": {},
   "outputs": [
    {
     "name": "stdout",
     "output_type": "stream",
     "text": [
      "0\n",
      "1\n",
      "Abacaxi\n",
      "Banana\n",
      "Maça\n"
     ]
    }
   ],
   "source": [
    "a=0\n",
    "\n",
    "if a==0:\n",
    "    pass\n",
    "elif (a==1)and(a==1): # and, or, not\n",
    "    pass\n",
    "else:\n",
    "    pass\n",
    "\n",
    "while a!=2:\n",
    "    a += 1\n",
    "\n",
    "for i in range(a):\n",
    "    print(i)\n",
    "\n",
    "for i in ['Abacaxi', 'Banana', 'Maça']:\n",
    "    print(i)"
   ]
  },
  {
   "cell_type": "code",
   "execution_count": 2,
   "metadata": {},
   "outputs": [
    {
     "data": {
      "text/plain": [
       "5"
      ]
     },
     "execution_count": 2,
     "metadata": {},
     "output_type": "execute_result"
    }
   ],
   "source": [
    "def func1(a, b):\n",
    "    return a+b\n",
    "func1(1,4)"
   ]
  },
  {
   "cell_type": "code",
   "execution_count": 4,
   "metadata": {},
   "outputs": [],
   "source": [
    "import numpy as np\n",
    "import pandas as pd\n",
    "import matplotlib.pyplot as plt"
   ]
  },
  {
   "cell_type": "code",
   "execution_count": null,
   "metadata": {},
   "outputs": [],
   "source": []
  }
 ],
 "metadata": {
  "kernelspec": {
   "display_name": "Python 3",
   "language": "python",
   "name": "python3"
  },
  "language_info": {
   "codemirror_mode": {
    "name": "ipython",
    "version": 3
   },
   "file_extension": ".py",
   "mimetype": "text/x-python",
   "name": "python",
   "nbconvert_exporter": "python",
   "pygments_lexer": "ipython3",
   "version": "3.8.2"
  }
 },
 "nbformat": 4,
 "nbformat_minor": 4
}
